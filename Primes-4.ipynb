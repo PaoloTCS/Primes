{
 "cells": [
  {
   "cell_type": "code",
   "execution_count": 2,
   "metadata": {},
   "outputs": [],
   "source": [
    "import numpy as np"
   ]
  },
  {
   "cell_type": "code",
   "execution_count": 11,
   "metadata": {},
   "outputs": [
    {
     "name": "stdout",
     "output_type": "stream",
     "text": [
      "25\n",
      "[2, 3, 5, 13, 19]\n",
      "[2, 3, 5, 7, 11, 13, 17, 19, 23, 29, 31, 37, 41, 43, 47, 53, 59, 61, 67, 71, 73, 79, 83, 89, 97]\n",
      "[2]\n",
      "[97]\n"
     ]
    }
   ],
   "source": [
    "ax1 = [2,3,5,7,11,13,17,19,23,29,31,37,41,43,47,53,59,61,67,71,73,79,83,89,97];\n",
    "IndexTest = [0, 1, 2, 5, 7] ;  #  ordinal postions of the elements in the list \n",
    "print(len(ax1))   \n",
    "ax1len = len(ax1)  # 25 - for number 0f primes less than 100\n",
    "print(list(np.array(ax1)[IndexTest]))  #  [2, 3, 5, 13, 19] \n",
    "print(ax1)\n",
    "print(ax1[:1])\n",
    "print(ax1[-1:])\n",
    "\n"
   ]
  },
  {
   "cell_type": "code",
   "execution_count": 3,
   "metadata": {},
   "outputs": [
    {
     "data": {
      "text/plain": [
       "25"
      ]
     },
     "execution_count": 3,
     "metadata": {},
     "output_type": "execute_result"
    }
   ],
   "source": [
    "len(ax1)"
   ]
  },
  {
   "cell_type": "code",
   "execution_count": 4,
   "metadata": {},
   "outputs": [],
   "source": [
    "def primeOfPrimes(x):\n",
    "    return [i for i in x if i < ax1len] "
   ]
  },
  {
   "cell_type": "code",
   "execution_count": 9,
   "metadata": {},
   "outputs": [
    {
     "name": "stdout",
     "output_type": "stream",
     "text": [
      "[2, 3, 5, 7, 11, 13, 17, 19, 23]\n"
     ]
    }
   ],
   "source": [
    "primeOfPrimes(ax1)\n",
    "myPrimeOfPrimes = primeOfPrimes(ax1)\n",
    "sx1 = primeOfPrimes(ax1)\n",
    "print(myPrimeOfPrimes) \n"
   ]
  },
  {
   "cell_type": "code",
   "execution_count": 12,
   "metadata": {},
   "outputs": [
    {
     "name": "stdout",
     "output_type": "stream",
     "text": [
      "[2, 3, 5, 7, 11, 13, 17, 19, 23, 29, 31, 37, 41, 43, 47, 53, 59, 61, 67, 71, 73, 79, 83, 89, 97]\n",
      "[2, 3, 5, 7, 11, 13, 17, 19, 23]\n",
      "[5, 7, 13, 19, 37, 43, 61, 71, 89]\n"
     ]
    }
   ],
   "source": [
    "# for simplicity,\n",
    "ax2 = ax1\n",
    "print(ax2)\n",
    "print (sx1)  #  This generates the index of the primes in the list\n",
    "print(list(np.array(ax1)[sx1]))  #  [5, 7, 13, 19, 37, 43, 61, 71, 89] the first item s/b 3 (0 based)"
   ]
  },
  {
   "cell_type": "code",
   "execution_count": 7,
   "metadata": {},
   "outputs": [
    {
     "name": "stdout",
     "output_type": "stream",
     "text": [
      "[2, 5, 7, 13, 19, 37, 43, 61, 71, 89]\n"
     ]
    }
   ],
   "source": [
    "# To fix the index off by one position, I added a 0 to the start of the list \n",
    "woof = [0, 2, 3, 5, 7, 11, 13, 17, 19, 23]\n",
    "print(list(np.array(ax2)[woof]))"
   ]
  }
 ],
 "metadata": {
  "kernelspec": {
   "display_name": "Python 3.9.13 64-bit",
   "language": "python",
   "name": "python3"
  },
  "language_info": {
   "codemirror_mode": {
    "name": "ipython",
    "version": 3
   },
   "file_extension": ".py",
   "mimetype": "text/x-python",
   "name": "python",
   "nbconvert_exporter": "python",
   "pygments_lexer": "ipython3",
   "version": "3.9.13"
  },
  "orig_nbformat": 4,
  "vscode": {
   "interpreter": {
    "hash": "b0fa6594d8f4cbf19f97940f81e996739fb7646882a419484c72d19e05852a7e"
   }
  }
 },
 "nbformat": 4,
 "nbformat_minor": 2
}
