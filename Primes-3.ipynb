{
 "cells": [
  {
   "cell_type": "code",
   "execution_count": null,
   "metadata": {},
   "outputs": [],
   "source": [
    "elements = [10, 11, 12, 13, 14, 15]\n",
    "indices = (1,1,2,1,5)\n",
    " \n",
    "result_list = [elements[i] for i in indices]\n",
    "print(result_list)"
   ]
  },
  {
   "cell_type": "code",
   "execution_count": null,
   "metadata": {},
   "outputs": [],
   "source": [
    "import numpy as np\n",
    "ax = [2, 3, 5, 7, 11, 13];\n",
    "sx = [0, 1, 2, 5] ;\n",
    "print(len(ax))\n",
    "print(len(sx))\n",
    "print(list(np.array(ax)[sx]))\n",
    "print(ax.index(11))\n",
    "#  outputs [2, 3, 5, 13]"
   ]
  },
  {
   "cell_type": "code",
   "execution_count": null,
   "metadata": {},
   "outputs": [],
   "source": [
    "ax1 = [2,3,5,7,11,13,17,19,23,29,31,37,41,43,47,53,59,61,67,71,73,79,83,89,97];\n",
    "sx1 = [0, 1, 2, 5, 7] ;  #  ordinal postions of the elements in the list \n",
    "print(len(ax1))   \n",
    "ax1len = len(ax1)  # 25 - for number 0f primes less than 100\n",
    "print(list(np.array(ax1)[sx1]))  #  [2, 3, 5, 13, 19] \n",
    "\n"
   ]
  },
  {
   "cell_type": "markdown",
   "metadata": {},
   "source": [
    "## Slice stuff"
   ]
  },
  {
   "cell_type": "code",
   "execution_count": null,
   "metadata": {},
   "outputs": [],
   "source": [
    "print(ax1[::])\n",
    "# print(ax1[::-1])\n",
    "print(ax1[0:25]) \n",
    "print(ax1[0:ax1len])\n",
    "\n",
    "print(ax1[0:8])  # the last prime before 25, the len of ax1\n"
   ]
  },
  {
   "cell_type": "code",
   "execution_count": null,
   "metadata": {},
   "outputs": [],
   "source": [
    "ax3 = [2,3,5,7,11,13,17,19,23,29,31,37,41,43,47,53,59,61,67,71,73,79,83,89,97];\n",
    "# \n",
    "# print(list(np.array(ax3)[sx3]))  #  out of bounds error\n",
    "#  How many primes below the len of list? len of list is 25 (9)\n",
    "len(ax3)"
   ]
  },
  {
   "cell_type": "code",
   "execution_count": null,
   "metadata": {},
   "outputs": [],
   "source": [
    "# print(list(np.array(ax3)[sx3]))"
   ]
  },
  {
   "cell_type": "code",
   "execution_count": null,
   "metadata": {},
   "outputs": [],
   "source": [
    "x=[3, 5, 7, 8, 12, 14, 14, 15, 18, 21]\n",
    "[i for i in x if i < 12]"
   ]
  },
  {
   "cell_type": "code",
   "execution_count": null,
   "metadata": {},
   "outputs": [],
   "source": [
    "\n",
    "x = ax1  \n",
    "[i for i in x if i < ax1len]"
   ]
  },
  {
   "cell_type": "code",
   "execution_count": null,
   "metadata": {},
   "outputs": [],
   "source": [
    "def primeOfPrimes(x):\n",
    "    return [i for i in x if i < ax1len] "
   ]
  },
  {
   "cell_type": "code",
   "execution_count": null,
   "metadata": {},
   "outputs": [],
   "source": [
    "primeOfPrimes(ax1)\n",
    "myPrimeOfPrimes = primeOfPrimes(ax1)\n",
    "sx2 = primeOfPrimes(ax1)\n",
    "print(myPrimeOfPrimes) \n"
   ]
  },
  {
   "cell_type": "code",
   "execution_count": null,
   "metadata": {},
   "outputs": [],
   "source": [
    "# for simplicity,\n",
    "ax2 = ax1\n",
    "print(ax2)\n",
    "print (\"Index for primes\", sx2)  #  This generates the index of the primes in the list\n",
    "print(list(np.array(ax2)[sx2]))\n"
   ]
  },
  {
   "cell_type": "code",
   "execution_count": null,
   "metadata": {},
   "outputs": [],
   "source": [
    "# To fix the index off by one position, I added a 0 to the start of the list \n",
    "woof = [0, 2, 3, 5, 7, 11, 13, 17, 19, 23]\n",
    "print(list(np.array(ax2)[woof]))"
   ]
  },
  {
   "cell_type": "code",
   "execution_count": null,
   "metadata": {},
   "outputs": [],
   "source": []
  }
 ],
 "metadata": {
  "kernelspec": {
   "display_name": "Python 3.10.4 ('env_math')",
   "language": "python",
   "name": "python3"
  },
  "language_info": {
   "codemirror_mode": {
    "name": "ipython",
    "version": 3
   },
   "file_extension": ".py",
   "mimetype": "text/x-python",
   "name": "python",
   "nbconvert_exporter": "python",
   "pygments_lexer": "ipython3",
   "version": "3.10.4"
  },
  "orig_nbformat": 4,
  "vscode": {
   "interpreter": {
    "hash": "3c487f05fdb7c3c4e06930dec4b693533b888b9e626a6fcfd9a8f5af51ccf9c1"
   }
  }
 },
 "nbformat": 4,
 "nbformat_minor": 2
}
