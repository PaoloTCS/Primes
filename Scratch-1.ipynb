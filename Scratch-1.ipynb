{
 "cells": [
  {
   "cell_type": "code",
   "execution_count": null,
   "metadata": {},
   "outputs": [],
   "source": [
    "import numpy as np"
   ]
  },
  {
   "cell_type": "code",
   "execution_count": null,
   "metadata": {},
   "outputs": [],
   "source": [
    "# 1\n",
    "my100Primes = np.array([2,3,5,7,11,13,17,19,23,29,31,37,41,43,47,53,59,61,67,71,73,79,83,89,97])\n",
    "my100PrimesLength = len(my100Primes)"
   ]
  },
  {
   "cell_type": "code",
   "execution_count": null,
   "metadata": {},
   "outputs": [],
   "source": [
    "#  Make into a function \n",
    "\n",
    "def prime_array(primeList):\n",
    "    index = 1\n",
    "    for value in primeList:\n",
    "        print(index, value)\n",
    "        index += 1      "
   ]
  },
  {
   "cell_type": "code",
   "execution_count": null,
   "metadata": {},
   "outputs": [],
   "source": [
    "# 2\n",
    "def orderedPrimes(my100Primes):\n",
    "    # orderedPrimes = []\n",
    "    index = 1\n",
    "    for value in my100Primes:\n",
    "        print(index, value)\n",
    "        index += 1\n",
    "        result = np.array(my100Primes) "
   ]
  },
  {
   "cell_type": "code",
   "execution_count": null,
   "metadata": {},
   "outputs": [],
   "source": []
  },
  {
   "cell_type": "code",
   "execution_count": null,
   "metadata": {},
   "outputs": [],
   "source": [
    "# 3\n",
    "orderedPrimesArray = np.array(orderedPrimes(my100Primes))"
   ]
  },
  {
   "cell_type": "code",
   "execution_count": 40,
   "metadata": {},
   "outputs": [
    {
     "name": "stdout",
     "output_type": "stream",
     "text": [
      "()\n",
      "0\n"
     ]
    }
   ],
   "source": [
    "orderedPrimesArray.shape\n",
    "orderedPrimesArray.ndim\n",
    "print(orderedPrimesArray.shape)  # result: ()\n",
    "print(orderedPrimesArray.ndim)   # result:  0"
   ]
  },
  {
   "cell_type": "code",
   "execution_count": 48,
   "metadata": {},
   "outputs": [
    {
     "name": "stdout",
     "output_type": "stream",
     "text": [
      "[ 1  2  3  4  5  6  7  8  9 10 11 12]\n",
      "(12,)\n",
      "1\n",
      "Now for newarr\n",
      "(4, 3)\n",
      "2\n",
      "[[ 1  2  3]\n",
      " [ 4  5  6]\n",
      " [ 7  8  9]\n",
      " [10 11 12]]\n"
     ]
    }
   ],
   "source": [
    "testarr = np.array([1, 2, 3, 4, 5, 6, 7, 8, 9, 10, 11, 12])\n",
    "\n",
    "newarr = testarr.reshape(4, 3)\n",
    "\n",
    "print(testarr   )\n",
    "print(testarr.shape)\n",
    "print(testarr.ndim)\n",
    "print(\"Now for newarr\")\n",
    "print(newarr.shape)\n",
    "print(newarr.ndim)\n",
    "print(newarr)"
   ]
  },
  {
   "cell_type": "code",
   "execution_count": null,
   "metadata": {},
   "outputs": [],
   "source": [
    "# orderedPrimesArray \n",
    "\n"
   ]
  }
 ],
 "metadata": {
  "kernelspec": {
   "display_name": "Python 3.10.4 ('env_math')",
   "language": "python",
   "name": "python3"
  },
  "language_info": {
   "codemirror_mode": {
    "name": "ipython",
    "version": 3
   },
   "file_extension": ".py",
   "mimetype": "text/x-python",
   "name": "python",
   "nbconvert_exporter": "python",
   "pygments_lexer": "ipython3",
   "version": "3.10.4"
  },
  "orig_nbformat": 4,
  "vscode": {
   "interpreter": {
    "hash": "3c487f05fdb7c3c4e06930dec4b693533b888b9e626a6fcfd9a8f5af51ccf9c1"
   }
  }
 },
 "nbformat": 4,
 "nbformat_minor": 2
}
