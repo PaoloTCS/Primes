{
 "cells": [
  {
   "cell_type": "code",
   "execution_count": 28,
   "metadata": {},
   "outputs": [],
   "source": [
    "#  Get a copy to cloud storage\n",
    "#  For lists: https://www.mathsisfun.com/numbers/prime-number-lists.html\n",
    "import numpy as np"
   ]
  },
  {
   "cell_type": "code",
   "execution_count": 29,
   "metadata": {},
   "outputs": [
    {
     "name": "stdout",
     "output_type": "stream",
     "text": [
      "[ 2  3  5 13 19]\n",
      "25\n"
     ]
    }
   ],
   "source": [
    "#  Here we load files, like  primes-to-100k.txt \n",
    "PrimeArray = np.array([2,3,5,7,11,13,17,19,23,29,31,37,41,43,47,53,59,61,67,71,73,79,83,89,97]);\n",
    "IndexArray = np.array([0, 1, 2, 5, 7]) ;  #  ordinal postions of the elements in the list \n",
    "ax1len = len(PrimeArray)  # 25 - for number 0f primes less than 100 \n",
    "x = np.array(np.array(PrimeArray)[IndexArray])\n",
    "print(np.array(np.array(PrimeArray)[IndexArray]))\n",
    "print(len(PrimeArray))\n",
    "\n"
   ]
  },
  {
   "cell_type": "code",
   "execution_count": 30,
   "metadata": {},
   "outputs": [],
   "source": [
    "def primeOfPrimes(x):\n",
    "    return [i for i in x if i < ax1len] "
   ]
  },
  {
   "cell_type": "code",
   "execution_count": 31,
   "metadata": {},
   "outputs": [
    {
     "name": "stdout",
     "output_type": "stream",
     "text": [
      "[ 2  3  5  7 11 13 17 19 23 29 31 37 41 43 47 53 59 61 67 71 73 79 83 89\n",
      " 97]\n",
      "[ 2  3  5  7 11 13 17 19 23]\n",
      "[5, 7, 13, 19, 37, 43, 61, 71, 89]\n"
     ]
    }
   ],
   "source": [
    "primeOfPrimes(PrimeArray)\n",
    "myPrimeOfPrimes = np.array(primeOfPrimes(PrimeArray))\n",
    "sx1 = np.array(primeOfPrimes(PrimeArray))\n",
    "print(PrimeArray)\n",
    "print(myPrimeOfPrimes) \n",
    "print(list(np.array(PrimeArray)[sx1]))  #  [5, 7, 13, 19, 37, 43, 61, 71, 89] the first item s/b 3 (0 based)\n"
   ]
  },
  {
   "cell_type": "code",
   "execution_count": 44,
   "metadata": {},
   "outputs": [
    {
     "name": "stdout",
     "output_type": "stream",
     "text": [
      "[0.]\n",
      "Second level primes are:  [2, 5, 7, 13, 19, 37, 43, 61, 71, 89]\n",
      "Indeces are:  [ 0  2  3  5  7 11 13 17 19 23]\n"
     ]
    }
   ],
   "source": [
    "# To fix the index off by one position, I added a 0 to the start of the list \n",
    "woof = np.array([0, 2, 3, 5, 7, 11, 13, 17, 19, 23])\n",
    "# ow use a more adult version\n",
    "npZeros0 = np.zeros((1))\n",
    "print(npZeros0)\n",
    "\n",
    "PP2 = np.insert(myPrimeOfPrimes, 0, npZeros0)\n",
    "print(\"Second level primes are: \", list(np.array(PrimeArray)[woof]))    # [2, 5, 7, 13, 19, 37, 43, 61, 71, 89]\n",
    "print(\"Indeces are: \", PP2)"
   ]
  },
  {
   "cell_type": "code",
   "execution_count": 45,
   "metadata": {},
   "outputs": [
    {
     "name": "stdout",
     "output_type": "stream",
     "text": [
      "[ 0  2  3  5  7 11 13 17 19 23]\n"
     ]
    }
   ],
   "source": [
    "print(PP2)"
   ]
  },
  {
   "cell_type": "code",
   "execution_count": 38,
   "metadata": {},
   "outputs": [
    {
     "name": "stdout",
     "output_type": "stream",
     "text": [
      "[ 2  5  7 13 19 37 43 61 71 89]\n"
     ]
    }
   ],
   "source": [
    "print(x)"
   ]
  }
 ],
 "metadata": {
  "kernelspec": {
   "display_name": "Python 3.9.13 64-bit",
   "language": "python",
   "name": "python3"
  },
  "language_info": {
   "codemirror_mode": {
    "name": "ipython",
    "version": 3
   },
   "file_extension": ".py",
   "mimetype": "text/x-python",
   "name": "python",
   "nbconvert_exporter": "python",
   "pygments_lexer": "ipython3",
   "version": "3.9.13"
  },
  "orig_nbformat": 4,
  "vscode": {
   "interpreter": {
    "hash": "b0fa6594d8f4cbf19f97940f81e996739fb7646882a419484c72d19e05852a7e"
   }
  }
 },
 "nbformat": 4,
 "nbformat_minor": 2
}
