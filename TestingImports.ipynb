{
 "cells": [
  {
   "cell_type": "code",
   "execution_count": null,
   "metadata": {},
   "outputs": [],
   "source": [
    "import numpy as np\n",
    "# from importGenertedPrimews import File_data\n",
    "from importGenertedPrimews import file_100kprimes\n"
   ]
  },
  {
   "cell_type": "code",
   "execution_count": 27,
   "metadata": {},
   "outputs": [
    {
     "name": "stdout",
     "output_type": "stream",
     "text": [
      "Prime array is:  [    2     3     5 ... 99971 99989 99991]\n",
      "length is:   9592\n",
      "first element is:  [2]\n",
      "last element is:  [99991]\n"
     ]
    }
   ],
   "source": [
    "#  Results:\n",
    "PrimeArray100k = np.array(file_100kprimes)\n",
    "print(\"Prime array is: \",PrimeArray100k)\n",
    "print(\"length is:  \",len(PrimeArray100k)) \n",
    "firstElement = PrimeArray100k[0]\n",
    "# \n",
    "firstElement100k = PrimeArray100k[0:1]\n",
    "lastElement100k = PrimeArray100k[-1:]\n",
    "print(\"first element is: \",PrimeArray100k[0:1]) #  9592 primes less than 100k\n",
    "print(\"last element is: \",PrimeArray100k[-1:])\n",
    "\n",
    "#  myPrimeOfPrimes100k = np.array(primeOfPrimes(PrimeArray100k))\n",
    "#  print(\"My prime of primes is: \", myPrimeOfPrimes100k) \n"
   ]
  },
  {
   "cell_type": "code",
   "execution_count": null,
   "metadata": {},
   "outputs": [],
   "source": [
    "ax1len = len(PrimeArray100k)\n",
    "def primeOfPrimes(x):\n",
    "    return [i for i in x if i < ax1len] \n",
    "\n",
    "# %%\n",
    "primeOfPrimes(PrimeArray100k)  #  2 to last prime, 9592 primes less than 100k\n"
   ]
  },
  {
   "cell_type": "code",
   "execution_count": null,
   "metadata": {},
   "outputs": [],
   "source": [
    "print(primeOfPrimes(PrimeArray100k))"
   ]
  }
 ],
 "metadata": {
  "kernelspec": {
   "display_name": "Python 3.9.13 64-bit",
   "language": "python",
   "name": "python3"
  },
  "language_info": {
   "codemirror_mode": {
    "name": "ipython",
    "version": 3
   },
   "file_extension": ".py",
   "mimetype": "text/x-python",
   "name": "python",
   "nbconvert_exporter": "python",
   "pygments_lexer": "ipython3",
   "version": "3.9.13"
  },
  "orig_nbformat": 4,
  "vscode": {
   "interpreter": {
    "hash": "b0fa6594d8f4cbf19f97940f81e996739fb7646882a419484c72d19e05852a7e"
   }
  }
 },
 "nbformat": 4,
 "nbformat_minor": 2
}
